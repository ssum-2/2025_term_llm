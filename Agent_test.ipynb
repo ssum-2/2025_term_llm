{
 "cells": [
  {
   "cell_type": "code",
   "outputs": [],
   "source": [
    "# 필수 라이브러리 설치\n",
    "!uv pip install langchain langchain-upstage faiss-cpu python-dotenv PyPDF2"
   ],
   "metadata": {
    "collapsed": false
   },
   "id": "4a18c23cb5fec379",
   "execution_count": null
  },
  {
   "cell_type": "markdown",
   "source": [
    "### laminar 설치\n",
    "- langSmith 대체\n",
    "- https://docs.lmnr.ai/overview\n",
    "- https://github.com/lmnr-ai/lmnr\n",
    "\n",
    "#### docker self hosting server\n",
    "`git clone https://github.com/lmnr-ai/lmnr`\n",
    "`cd lmnr`\n",
    "`docker compose up -d`\n",
    "- access the dashboard\n",
    "- http://localhost:5667/\n"
   ],
   "metadata": {
    "collapsed": false
   },
   "id": "682061df70475d03"
  },
  {
   "cell_type": "code",
   "outputs": [],
   "source": [
    "! uv pip install --upgrade 'lmnr[all]'"
   ],
   "metadata": {
    "collapsed": false
   },
   "id": "f4a2dd47c72bc422",
   "execution_count": null
  },
  {
   "cell_type": "code",
   "outputs": [],
   "source": [
    "import os\n",
    "from dotenv import load_dotenv\n",
    "from PyPDF2 import PdfReader\n",
    "import glob\n",
    "from langchain_text_splitters import CharacterTextSplitter\n",
    "from langchain_upstage import UpstageEmbeddings\n",
    "from langchain_community.vectorstores import FAISS\n",
    "from langchain_upstage import ChatUpstage\n",
    "from langchain.agents import tool\n",
    "# from langchain_core.prompts import ChatPromptTemplate\n",
    "from langchain.agents import AgentExecutor, Tool, create_react_agent\n",
    "from langchain import hub"
   ],
   "metadata": {
    "collapsed": false
   },
   "id": "7135f55dc6c5cfdd",
   "execution_count": null
  },
  {
   "cell_type": "code",
   "outputs": [],
   "source": [
    "from lmnr import Laminar"
   ],
   "metadata": {
    "collapsed": false
   },
   "id": "a3c8b4cc9b4b3cae",
   "execution_count": null
  },
  {
   "cell_type": "code",
   "outputs": [],
   "source": [
    "# 환경변수 설정 (.env 파일로 관리)\n",
    "load_dotenv()\n",
    "\n",
    "UPSTAGE_API_KEY = os.getenv(\"UPSTAGE_API_KEY\")\n",
    "LMNR_PROJECT_API_KEY = os.getenv(\"LMNR_PROJECT_API_KEY\")\n",
    "\n",
    "# pdf 파일 경로\n",
    "PDF_FILE_PATH = \"./data/*.pdf\""
   ],
   "metadata": {
    "collapsed": false
   },
   "id": "2ce7f9bc7d61ffa1",
   "execution_count": null
  },
  {
   "cell_type": "code",
   "outputs": [],
   "source": [
    "#laminar 추적\n",
    "Laminar.initialize(project_api_key=LMNR_PROJECT_API_KEY)"
   ],
   "metadata": {
    "collapsed": false
   },
   "id": "832a9dcc565b4c61",
   "execution_count": null
  },
  {
   "cell_type": "code",
   "outputs": [],
   "source": [
    "# PDF 파일 로드 및 텍스트 추출\n",
    "pdf_files = glob.glob(PDF_FILE_PATH)\n",
    "\n",
    "texts = []\n",
    "for pdf_file in pdf_files:\n",
    "    reader = PdfReader(pdf_file)\n",
    "    for page in reader.pages[2:]:   # 표지, 목차 제거\n",
    "        texts.append(page.extract_text())"
   ],
   "metadata": {
    "collapsed": false
   },
   "id": "fc89551394283d3c",
   "execution_count": null
  },
  {
   "cell_type": "code",
   "outputs": [],
   "source": [
    "# 텍스트 청킹 (Chunking)\n",
    "text_splitter = CharacterTextSplitter(chunk_size=500, chunk_overlap=50)\n",
    "docs = text_splitter.create_documents(texts)"
   ],
   "metadata": {
    "collapsed": false
   },
   "id": "ee4c547c3aadba95",
   "execution_count": null
  },
  {
   "cell_type": "code",
   "outputs": [],
   "source": [
    "# Upstage Solar Embedding으로 벡터화 및 FAISS에 저장\n",
    "embeddings = UpstageEmbeddings(upstage_api_key=UPSTAGE_API_KEY, model=\"solar-embedding-1-large\")\n",
    "db = FAISS.from_documents(docs, embeddings)"
   ],
   "metadata": {
    "collapsed": false
   },
   "id": "c371c1c4385068ea",
   "execution_count": null
  },
  {
   "cell_type": "code",
   "outputs": [],
   "source": [
    "# Upstage Solar LLM 설정\n",
    "llm = ChatUpstage(upstage_api_key=UPSTAGE_API_KEY, model=\"solar-pro-250422\")"
   ],
   "metadata": {
    "collapsed": false
   },
   "id": "2adbfc6177daa167",
   "execution_count": null
  },
  {
   "cell_type": "code",
   "outputs": [],
   "source": [
    "# ReAct를 위한 Tool 정의 (PDF 검색 도구)\n",
    "@tool\n",
    "def search_pdf(query: str) -> str:\n",
    "    \"\"\"강의자료(PDF)에서 관련 내용을 검색하여 반환합니다.\"\"\"\n",
    "    docs = db.similarity_search(query, k=3)\n",
    "    return \"\\n\\n\".join([d.page_content for d in docs])\n",
    "\n",
    "tools = [Tool(name=\"search_pdf\", func=search_pdf, description=\"강의자료(PDF)에서 관련 내용을 검색\")]"
   ],
   "metadata": {
    "collapsed": true
   },
   "id": "initial_id",
   "execution_count": null
  },
  {
   "cell_type": "code",
   "outputs": [],
   "source": [
    "# ReAct 프롬프트 및 에이전트 생성\n",
    "prompt = hub.pull(\"hwchase17/react\")  # ReAct 프롬프트 불러오기\n",
    "agent = create_react_agent(llm, tools, prompt)\n",
    "\n",
    "agent_executor = AgentExecutor(\n",
    "    agent=agent,\n",
    "    tools=tools,\n",
    "    verbose=True,\n",
    "    handle_parsing_errors=True,  # 파싱 에러 발생 시 재시도 가능\n",
    "    max_iterations=5\n",
    ")"
   ],
   "metadata": {
    "collapsed": false
   },
   "id": "98c4238796498c52",
   "execution_count": null
  },
  {
   "cell_type": "code",
   "outputs": [],
   "source": [
    "# 공부 도우미 질의응답 예시\n",
    "result = agent_executor.invoke({\"input\": \"강의자료에서 '딥러닝' 개념에 대해 설명해줘\"})\n",
    "print(result[\"output\"])"
   ],
   "metadata": {
    "collapsed": false
   },
   "id": "a8708dc369bbd1f9",
   "execution_count": null
  }
 ],
 "metadata": {
  "kernelspec": {
   "display_name": "Python 3",
   "language": "python",
   "name": "python3"
  },
  "language_info": {
   "codemirror_mode": {
    "name": "ipython",
    "version": 2
   },
   "file_extension": ".py",
   "mimetype": "text/x-python",
   "name": "python",
   "nbconvert_exporter": "python",
   "pygments_lexer": "ipython2",
   "version": "2.7.6"
  }
 },
 "nbformat": 4,
 "nbformat_minor": 5
}
